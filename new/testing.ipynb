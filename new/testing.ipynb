{
 "cells": [
  {
   "cell_type": "code",
   "execution_count": 1,
   "metadata": {},
   "outputs": [],
   "source": [
    "import torch"
   ]
  },
  {
   "cell_type": "code",
   "execution_count": 14,
   "metadata": {},
   "outputs": [],
   "source": [
    "B, N, K, C = 1, 16, 4, 320\n",
    "\n",
    "h_V = torch.randn(B, N, C)\n",
    "h_E = torch.randn(B, N, K, C)\n",
    "E_idx = torch.randint(0, N, (B, N, K))\n",
    "\n",
    "\n"
   ]
  },
  {
   "cell_type": "code",
   "execution_count": 15,
   "metadata": {},
   "outputs": [],
   "source": [
    "def gather_nodes(nodes: torch.Tensor, neighbor_idx: torch.Tensor) -> torch.Tensor:\n",
    "    \"\"\"\n",
    "    Gather node features from a neighbor index.\n",
    "\n",
    "    Parameters\n",
    "    ----------\n",
    "    nodes: torch.Tensor\n",
    "        Node features with shape [B, N, C].\n",
    "\n",
    "    neighbor_idx: torch.Tensor\n",
    "        Neighbor indices with shape [B, N, K].\n",
    "\n",
    "    Returns\n",
    "    -------\n",
    "    neighbor_features: torch.Tensor\n",
    "        Gathered neighbor features with shape [B, N, K, C].\n",
    "\n",
    "    \"\"\"\n",
    "    # flatten neighbor indices [B, N, K] => [B, NK]\n",
    "    neighbors_flat = neighbor_idx.view((neighbor_idx.shape[0], -1))\n",
    "    # expand flattened indices [B, NK] => [B, NK, C]\n",
    "    neighbors_flat = neighbors_flat.unsqueeze(-1).expand(-1, -1, nodes.size(2))\n",
    "    # gather nodes [B, N, C] => [B, NK, C]\n",
    "    neighbor_features = torch.gather(nodes, 1, neighbors_flat)\n",
    "    # reshape to [B, N, K, C]\n",
    "    neighbor_features = neighbor_features.view(list(neighbor_idx.shape)[:3] + [-1])\n",
    "    return neighbor_features\n",
    "\n",
    "\n",
    "\n",
    "def cat_neighbors_nodes(h_nodes, h_neighbors, E_idx):\n",
    "    \"\"\"\n",
    "    Gather node features from a neighbor index and concatenate with their edge features.\n",
    "\n",
    "    Parameters\n",
    "    ----------\n",
    "    h_nodes: torch.Tensor\n",
    "        Node features with shape [B, N, C].\n",
    "\n",
    "    h_neighbors: torch.Tensor\n",
    "        Neighbor features with shape [B, N, K, C].\n",
    "\n",
    "    E_idx: torch.Tensor\n",
    "        Indices of the neighbors for each node with shape [B, N, K].\n",
    "\n",
    "    Returns\n",
    "    -------\n",
    "    h_nn: torch.Tensor\n",
    "        Concatenated node and neighbor features with shape [B, N, K, 2C].\n",
    "\n",
    "    \"\"\"\n",
    "    # gather node features [B, N, C] with neighbor indices [B, N, K] => [B, N, K, C]\n",
    "    h_nodes = gather_nodes(h_nodes, E_idx)\n",
    "    # concatenate neighbor and node features [B, N, K, C] + [B, N, K, C] => [B, N, K, 2C]\n",
    "    h_nn = torch.cat([h_neighbors, h_nodes], -1)\n",
    "    return h_nn"
   ]
  },
  {
   "cell_type": "code",
   "execution_count": 18,
   "metadata": {},
   "outputs": [],
   "source": [
    "h_EV = cat_neighbors_nodes(h_V, h_E, E_idx)"
   ]
  },
  {
   "cell_type": "code",
   "execution_count": 19,
   "metadata": {},
   "outputs": [
    {
     "data": {
      "text/plain": [
       "torch.Size([1, 16, 4, 640])"
      ]
     },
     "execution_count": 19,
     "metadata": {},
     "output_type": "execute_result"
    }
   ],
   "source": [
    "h_EV.shape"
   ]
  },
  {
   "cell_type": "code",
   "execution_count": 20,
   "metadata": {},
   "outputs": [
    {
     "data": {
      "text/plain": [
       "torch.Size([1, 16, 4, 320])"
      ]
     },
     "execution_count": 20,
     "metadata": {},
     "output_type": "execute_result"
    }
   ],
   "source": [
    "h_V.unsqueeze(-2).expand(-1, -1, h_EV.size(-2), -1).shape"
   ]
  },
  {
   "cell_type": "code",
   "execution_count": 21,
   "metadata": {},
   "outputs": [],
   "source": [
    "h_EV = torch.cat([h_V.unsqueeze(-2).expand(-1, -1, h_EV.size(-2), -1), h_EV], -1)"
   ]
  },
  {
   "cell_type": "code",
   "execution_count": 22,
   "metadata": {},
   "outputs": [
    {
     "data": {
      "text/plain": [
       "torch.Size([1, 16, 4, 960])"
      ]
     },
     "execution_count": 22,
     "metadata": {},
     "output_type": "execute_result"
    }
   ],
   "source": [
    "h_EV.shape"
   ]
  },
  {
   "cell_type": "code",
   "execution_count": null,
   "metadata": {},
   "outputs": [],
   "source": []
  },
  {
   "cell_type": "code",
   "execution_count": null,
   "metadata": {},
   "outputs": [],
   "source": []
  }
 ],
 "metadata": {
  "kernelspec": {
   "display_name": "base",
   "language": "python",
   "name": "python3"
  },
  "language_info": {
   "codemirror_mode": {
    "name": "ipython",
    "version": 3
   },
   "file_extension": ".py",
   "mimetype": "text/x-python",
   "name": "python",
   "nbconvert_exporter": "python",
   "pygments_lexer": "ipython3",
   "version": "3.11.6"
  }
 },
 "nbformat": 4,
 "nbformat_minor": 2
}
